{
  "nbformat": 4,
  "nbformat_minor": 0,
  "metadata": {
    "colab": {
      "provenance": []
    },
    "kernelspec": {
      "name": "python3",
      "display_name": "Python 3"
    },
    "language_info": {
      "name": "python"
    }
  },
  "cells": [
    {
      "cell_type": "markdown",
      "source": [
        "#Feature Engineering Assignment"
      ],
      "metadata": {
        "id": "Up49Ilu7lPeq"
      }
    },
    {
      "cell_type": "markdown",
      "source": [
        "1. What is a parameter?\n",
        " - In machine learning, a parameter is an internal setting of a model that is learned or estimated from the training data\n",
        "\n",
        "2. What is correlation?\n",
        "   What does negative correlation mean?\n",
        "   - correlation refers to a statistical relationship between two variables, indicating how much they tend to change together. A negative correlation means that as one variable increases, the other tends to decrease, and vice versa\n",
        "\n",
        "3. Define Machine Learning. What are the main components in Machine Learning?\n",
        "  - An systems to learn from data and improve their performance on a specific task without explicit programming. The core components of machine learning include: representation, evaluation, and optimization.\n",
        "  \n",
        "4. How does loss value help in determining whether the model is good or not?\n",
        " - By quantifying the difference between the model's predictions and the actual values, a lower loss generally signifies better model accuracy and performance.\n",
        "\n",
        "5. What are continuous and categorical variables?\n",
        "  - Continuous variables represent measurements that can take on any value within a given range, while categorical variables represent categories or groups\n",
        "\n",
        "6. How do we handle categorical variables in Machine Learning? What are the common techniques?\n",
        "   - Categorical variables, representing categories or groups, need specific handling in machine learning. Common techniques include one-hot encoding, label encoding, and ordinal encoding\n",
        "\n",
        "7. What do you mean by training and testing a dataset?\n",
        "  - By training the data we understand the pattern and learn the data and while testing is refers to apply our model to external level.\n",
        "\n",
        "8. What is sklearn.preprocessing?\n",
        " - sklearn.preprocessing is a module within the scikit-learn (sklearn) library in Python that provides a comprehensive set of tools for data preprocessing.\n",
        "\n",
        "9. What is a Test set?\n",
        " - In machine learning, a test set is a subset of data used to evaluate the performance of a trained model after it has been trained and validated.\n",
        "\n",
        "10. How do we split data for model fitting (training and testing) in Python? How do you approach a Machine Learning problem?\n",
        " - To split data for model fitting in Python, the train_test_split function from sklearn.model_selection is commonly used. This function divides the dataset into training and testing sets, allowing you to train your model on one portion and evaluate its performance on a separate, unseen portion.\n",
        "\n",
        "11. Why do we have to perform EDA before fitting a model to the data?\n",
        " - to gain a comprehensive understanding of the data, identify potential issues, and inform the model selection and building process.\n",
        "\n",
        "12. What is correlation?\n",
        " - correlation refers to a statistical relationship between two variables, indicating how much they tend to change together.\n",
        "\n",
        "13. What does negative correlation mean?\n",
        " - A negative correlation means that as one variable increases, the other tends to decrease, and vice versa.\n",
        "\n",
        "14. How can you find correlation between variables in Python?\n",
        " - we can find the relation between variables using co-variance and co-rrelation formula.\n",
        "\n",
        "15. What is causation? Explain difference between correlation and causation with an example.\n",
        " - Causation means one event directly leads to another, while correlation simply indicates a relationship between two events.\n",
        "\n",
        "16. What is an Optimizer? What are different types of optimizers? Explain each with an example.\n",
        " - In machine learning, an optimizer is an algorithm or method used to adjust the parameters of a neural network (like weights and biases) to minimize the loss function, thus improving the model's performance\n",
        "\n",
        "17. What is sklearn.linear_model ?\n",
        " - sklearn.linear_model is a sub-module within the Scikit-learn (sklearn) library in Python, dedicated to implementing various linear models for both regression and classification tasks.\n",
        "\n",
        "18. What does model.fit() do? What arguments must be given?\n",
        " - The model.fit() function is used to train a machine learning model, particularly in frameworks.\n",
        "\n",
        "19. What does model.predict() do? What arguments must be given?\n",
        " -  model. predict() is used to generate predictions from the trained model based on new input data. It does not require true labels and does not compute any metrics.\n",
        "\n",
        "20. What are continuous and categorical variables?\n",
        " - Continuous variables represent measurements that can take on any value within a given range, while categorical variables represent categories or groups\n",
        "\n",
        "21. What is feature scaling? How does it help in Machine Learning?\n",
        " - Feature scaling is a data preprocessing technique that transforms the numerical features of a dataset to a similar scale, preventing features with larger values from unduly influencing machine learning models.\n",
        "\n",
        "22. How do we perform scaling in Python?\n",
        " - Scaling, in the context of data preprocessing in Python, primarily refers to feature scaling, which is the process of transforming the range of independent variables or features.\n",
        "\n",
        "23. What is sklearn.preprocessing?\n",
        " - sklearn.preprocessing is a module within the scikit-learn (sklearn) library in Python that provides a comprehensive set of tools for data preprocessing.\n",
        "\n",
        "24. How do we split data for model fitting (training and testing) in Python?\n",
        " - To split data for model fitting in Python, the train_test_split function from sklearn.model_selection is commonly used. This function divides the dataset into training and testing sets, allowing you to train your model on one portion and evaluate its performance on a separate, unseen portion.\n",
        "\n",
        "25. Explain data encoding?\n",
        " - Data encoding is the process of converting data into a specific format, suitable for storage, transmission, or processing, especially by computers."
      ],
      "metadata": {
        "id": "vgzEwjl4lXlS"
      }
    },
    {
      "cell_type": "code",
      "execution_count": null,
      "metadata": {
        "id": "WCm_h5FDlN2r"
      },
      "outputs": [],
      "source": []
    }
  ]
}